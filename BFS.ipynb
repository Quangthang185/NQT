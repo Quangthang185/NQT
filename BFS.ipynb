{
  "nbformat": 4,
  "nbformat_minor": 0,
  "metadata": {
    "colab": {
      "name": "BFS.ipynb",
      "provenance": [],
      "collapsed_sections": [],
      "authorship_tag": "ABX9TyNo8EU39LSN5yN9glPTHOgx",
      "include_colab_link": true
    },
    "kernelspec": {
      "name": "python3",
      "display_name": "Python 3"
    },
    "language_info": {
      "name": "python"
    }
  },
  "cells": [
    {
      "cell_type": "markdown",
      "metadata": {
        "id": "view-in-github",
        "colab_type": "text"
      },
      "source": [
        "<a href=\"https://colab.research.google.com/github/Quangthang185/NQT/blob/gh-pages/BFS.ipynb\" target=\"_parent\"><img src=\"https://colab.research.google.com/assets/colab-badge.svg\" alt=\"Open In Colab\"/></a>"
      ]
    },
    {
      "cell_type": "code",
      "metadata": {
        "id": "3R3URwpFpnoC"
      },
      "source": [
        "class Node():\n",
        "\tdef __init__(self, name, w = 0, par = None): # w = weight\n",
        "\t\tself.name = name\n",
        "\t\tself.par = par\n",
        "\t\tself.w = w\n",
        "\t\n",
        "\tdef display(self):\n",
        "\t\tprint(self.name, self.par)\n",
        "\n",
        "\tdef __lt__(self, other):\n",
        "\t\treturn self.w < other.w"
      ],
      "execution_count": null,
      "outputs": []
    },
    {
      "cell_type": "code",
      "metadata": {
        "id": "NQB-SuyXpqu2"
      },
      "source": [
        "from collections import defaultdict"
      ],
      "execution_count": null,
      "outputs": []
    },
    {
      "cell_type": "code",
      "metadata": {
        "id": "9i-FVILKpxqx"
      },
      "source": [
        "data = defaultdict(list)\n",
        "data['A'] = ['B', 'C', 'D']\n",
        "data['B'] = ['E', 'F']\n",
        "data['C'] = ['G', 'H']\n",
        "data['D'] = ['I', 'J']\n",
        "data['F'] = ['K', 'L', 'M']\n",
        "data['H'] = ['N', 'O']"
      ],
      "execution_count": null,
      "outputs": []
    },
    {
      "cell_type": "code",
      "metadata": {
        "id": "snjsVh_Nqsn7"
      },
      "source": [
        "def equal(O,G):\n",
        "  return O.name == G.name\n",
        "\n",
        "def checkInArray(tmp, Open):\n",
        "  for x in Open:\n",
        "    if equal(x, tmp):\n",
        "      return True\n",
        "    return False                \n",
        "\n",
        "def path(O):\n",
        "  print(O.name)\n",
        "  if O.par != None:\n",
        "    path(O.par)\n",
        "  else:\n",
        "    return\n"
      ],
      "execution_count": null,
      "outputs": []
    },
    {
      "cell_type": "code",
      "metadata": {
        "id": "ncLJzZbLsP9L"
      },
      "source": [
        "def BFS(S = Node('A'), G = Node('M')):\n",
        "  Open = []\n",
        "  Close = []\n",
        "  # Cho đỉnh xuất vào Open\n",
        "  Open.append(S)\n",
        "  # Nếu Open rỗng thì tìm kiếm thất bại, kết thúc việc tìm kiếm\n",
        "  while True:\n",
        "    if len(Open) == 0:\n",
        "      print('Tìm kiếm thất bại')\n",
        "      return\n",
        "    # Lấy đỉnh đầu trong Open ra và gọi đó là O, cho O vào close\n",
        "    O = Open.pop(0)\n",
        "    Close.append(O)\n",
        "    print(O.name)\n",
        "    # Nếu O là đỉnh đích thì tìm kiếm thành công, kết thúc việc tìm kiếm\n",
        "    if equal(O, G):\n",
        "      print('Tìm thấy')\n",
        "      path(O)\n",
        "      return\n",
        "    # Tìm tất cả các đỉnh con của O không thuộc open và close cho vào cuối open \n",
        "    for x in data[O.name]:\n",
        "      tmp = Node(x)# Tạo nút x\n",
        "      tmp.par = O\n",
        "      ok1 = checkInArray(tmp, Open)\n",
        "      ok2 = checkInArray(tmp, Close)\n",
        "      # Nếu tmp không thuộc Open và Close thì đưa vào cuối Open\n",
        "      if not ok1 and not ok2:\n",
        "        Open.append(tmp)"
      ],
      "execution_count": null,
      "outputs": []
    },
    {
      "cell_type": "code",
      "metadata": {
        "colab": {
          "base_uri": "https://localhost:8080/"
        },
        "id": "ju25dB-rzozn",
        "outputId": "bd0e1f10-6d48-455c-d515-043322bd71fd"
      },
      "source": [
        "BFS(Node('A'), Node('T'))"
      ],
      "execution_count": null,
      "outputs": [
        {
          "output_type": "stream",
          "name": "stdout",
          "text": [
            "A\n",
            "B\n",
            "C\n",
            "D\n",
            "E\n",
            "F\n",
            "G\n",
            "H\n",
            "I\n",
            "J\n",
            "K\n",
            "L\n",
            "M\n",
            "N\n",
            "O\n",
            "Tìm kiếm thất bại\n"
          ]
        }
      ]
    }
  ]
}